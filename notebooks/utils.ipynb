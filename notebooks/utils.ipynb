{
 "cells": [
  {
   "cell_type": "markdown",
   "metadata": {},
   "source": [
    "## Hilfsfunktionen"
   ]
  },
  {
   "cell_type": "code",
   "execution_count": 6,
   "metadata": {},
   "outputs": [],
   "source": [
    "def aggregateToModule(df):\n",
    "    \"\"\"\n",
    "    A function which aggregate grades to module layer\n",
    "    Arguments:\n",
    "        df {Dataframe} -- Pandas Dataframe\n",
    "    Returns:\n",
    "        df {Dataframe} with aggreagted modules\n",
    "    \"\"\"\n",
    "    grade_results = df[df['Student_Program_ID'] == df['Module_Program_ID']][[\\\n",
    "        'Student_Program_ID',\n",
    "        'Student_Program_Short',\n",
    "        'Student_ID',\n",
    "        'Student_Label',\n",
    "        'Start_Semester',\n",
    "        'Module_ID',\n",
    "        'Elective_Module',\n",
    "        'Unit_Semester',\n",
    "        'Gender',\n",
    "        'Module_Title',\n",
    "        'Plan_Semester',\n",
    "        'Nbr_Student_Semester',\n",
    "        'Module_Grade',\n",
    "        'Module_Label',\n",
    "        ]].rename(columns={'Student_Program_ID': 'Program_ID','Student_Program_Short': 'Program_Short'})\\\n",
    "          .drop_duplicates().reset_index(drop=True)\n",
    "    return grade_results"
   ]
  },
  {
   "cell_type": "code",
   "execution_count": 7,
   "metadata": {},
   "outputs": [],
   "source": [
    "def formatSemester(df,semester):\n",
    "    \"\"\"\n",
    "    A help function which format semester\n",
    "    Arguments:\n",
    "        df {Dataframe}   -- Pandas Dataframe\n",
    "        semester{Series} -- Pandas Series to format \n",
    "    Returns:\n",
    "        formatted df as {Series}\n",
    "    \"\"\"\n",
    "    semester_formatted=[]\n",
    "    for i in df[semester]:\n",
    "        if i % 2 == 0:\n",
    "            year = \"{}{}\".format( int(i/2), ' SS')\n",
    "        else:\n",
    "            year = \"{}{}\".format( int(i/2), ' WS')\n",
    "        semester_formatted.append(year)\n",
    "    return semester_formatted"
   ]
  },
  {
   "cell_type": "code",
   "execution_count": 8,
   "metadata": {},
   "outputs": [],
   "source": [
    "def filterStudentStatus(status):\n",
    "    \"\"\"\n",
    "    A help function which filter student data by their status \n",
    "    Arguments:\n",
    "        status {String} -- Pandas Dataframe\n",
    "    Returns:\n",
    "        {String} value to be passed to a plot function\n",
    "    \"\"\"\n",
    "    if(status=='g'):\n",
    "        status=\"Graduate\"\n",
    "    elif(status=='d'):\n",
    "        status=\"Dropout\"\n",
    "    elif(status=='a'):\n",
    "        status=\"Active\"\n",
    "    else:\n",
    "        status=\"kein\"\n",
    "    return status"
   ]
  },
  {
   "cell_type": "code",
   "execution_count": 9,
   "metadata": {},
   "outputs": [],
   "source": [
    "def saveChart(html_chart_name, figure_object):\n",
    "    \"\"\"\n",
    "    A function which save a plot as HTML file. Using the same file name \n",
    "    each plot can be appended to the HTML file.  \n",
    "    Arguments:\n",
    "        html_chart_name {String} -- Name of a HTML file \n",
    "        figure_object {Figure}   -- Figure object or dict representing a figure\n",
    "    Returns:\n",
    "        {String} Representation of figure as an HTML div string\n",
    "    \"\"\"\n",
    "    with open(\"{}.html\".format(html_chart_name), 'a') as html_file:\n",
    "        html_file.write(figure_object.to_html(full_html=False, include_plotlyjs='cdn'))"
   ]
  }
 ],
 "metadata": {
  "kernelspec": {
   "display_name": "bachelor",
   "language": "python",
   "name": "bachelor"
  },
  "language_info": {
   "codemirror_mode": {
    "name": "ipython",
    "version": 3
   },
   "file_extension": ".py",
   "mimetype": "text/x-python",
   "name": "python",
   "nbconvert_exporter": "python",
   "pygments_lexer": "ipython3",
   "version": "3.8.3"
  },
  "toc": {
   "base_numbering": 1,
   "nav_menu": {},
   "number_sections": true,
   "sideBar": true,
   "skip_h1_title": false,
   "title_cell": "Table of Contents",
   "title_sidebar": "Contents",
   "toc_cell": false,
   "toc_position": {},
   "toc_section_display": true,
   "toc_window_display": false
  }
 },
 "nbformat": 4,
 "nbformat_minor": 4
}
